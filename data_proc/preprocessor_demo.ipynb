{
 "cells": [
  {
   "cell_type": "markdown",
   "metadata": {},
   "source": [
    "# (a) question text part"
   ]
  },
  {
   "cell_type": "code",
   "execution_count": 4,
   "metadata": {},
   "outputs": [],
   "source": [
    "from question_preprocess import QuestionPreprocessor"
   ]
  },
  {
   "cell_type": "code",
   "execution_count": 1,
   "metadata": {},
   "outputs": [],
   "source": [
    "import collections\n",
    "import nltk\n",
    "import numpy as np\n",
    "import matplotlib.pyplot as plt\n",
    "import pickle"
   ]
  },
  {
   "cell_type": "code",
   "execution_count": 5,
   "metadata": {},
   "outputs": [],
   "source": [
    "Qproc = QuestionPreprocessor()"
   ]
  },
  {
   "cell_type": "markdown",
   "metadata": {},
   "source": [
    "## load dataset, tokenize them and build vocabulary"
   ]
  },
  {
   "cell_type": "code",
   "execution_count": 3,
   "metadata": {},
   "outputs": [],
   "source": [
    "test_data, _ = Qproc.load_data_csv(file_name=\"test.csv\")"
   ]
  },
  {
   "cell_type": "code",
   "execution_count": 4,
   "metadata": {},
   "outputs": [
    {
     "name": "stdout",
     "output_type": "stream",
     "text": [
      " In training data:\n",
      " num of Label 0: 1225312 \n",
      " num of Label 1: 80810 \n",
      " Toxic percentage: 6.187017751787352 %\n"
     ]
    }
   ],
   "source": [
    "train_data, train_label = Qproc.load_data_csv(file_name=\"train.csv\")"
   ]
  },
  {
   "cell_type": "code",
   "execution_count": 5,
   "metadata": {},
   "outputs": [
    {
     "name": "stdout",
     "output_type": "stream",
     "text": [
      " Time for tokenizing all questions is 170.78914308547974 (s)\n"
     ]
    }
   ],
   "source": [
    "train_token = Qproc.tokenizer(train_data)"
   ]
  },
  {
   "cell_type": "code",
   "execution_count": 6,
   "metadata": {},
   "outputs": [
    {
     "name": "stdout",
     "output_type": "stream",
     "text": [
      " Time for tokenizing all questions is 7.861229181289673 (s)\n"
     ]
    }
   ],
   "source": [
    "test_token = Qproc.tokenizer(test_data)"
   ]
  },
  {
   "cell_type": "code",
   "execution_count": 8,
   "metadata": {},
   "outputs": [
    {
     "name": "stdout",
     "output_type": "stream",
     "text": [
      " built vocabulary with 52307 words\n"
     ]
    }
   ],
   "source": [
    "vocab, words = Qproc.build_vocabulary(test_token+train_token, freq_cutoff=5)"
   ]
  },
  {
   "cell_type": "markdown",
   "metadata": {},
   "source": [
    "## save processed data"
   ]
  },
  {
   "cell_type": "code",
   "execution_count": 9,
   "metadata": {},
   "outputs": [
    {
     "name": "stdout",
     "output_type": "stream",
     "text": [
      " file vocab.pkl dumped to /Users/xyli1905/Projects/NLP/detoxic/data_proc/processed_data/vocab.pkl\n"
     ]
    }
   ],
   "source": [
    "Qproc.dump_data_pkl(vocab,file_name=\"vocab.pkl\")"
   ]
  },
  {
   "cell_type": "code",
   "execution_count": 10,
   "metadata": {},
   "outputs": [
    {
     "name": "stdout",
     "output_type": "stream",
     "text": [
      " file test_token.pkl dumped to /Users/xyli1905/Projects/NLP/detoxic/data_proc/processed_data/test_token.pkl\n"
     ]
    }
   ],
   "source": [
    "Qproc.dump_data_pkl(test_token, file_name=\"test_token.pkl\")"
   ]
  },
  {
   "cell_type": "code",
   "execution_count": 11,
   "metadata": {},
   "outputs": [
    {
     "name": "stdout",
     "output_type": "stream",
     "text": [
      " file train_token.pkl dumped to /Users/xyli1905/Projects/NLP/detoxic/data_proc/processed_data/train_token.pkl\n"
     ]
    }
   ],
   "source": [
    "Qproc.dump_data_pkl(train_token, file_name=\"train_token.pkl\")"
   ]
  },
  {
   "cell_type": "code",
   "execution_count": 12,
   "metadata": {},
   "outputs": [
    {
     "name": "stdout",
     "output_type": "stream",
     "text": [
      " file train_label.pkl dumped to /Users/xyli1905/Projects/NLP/detoxic/data_proc/processed_data/train_label.pkl\n"
     ]
    }
   ],
   "source": [
    "Qproc.dump_data_pkl(train_label, file_name=\"train_label.pkl\")"
   ]
  },
  {
   "cell_type": "markdown",
   "metadata": {},
   "source": [
    "## analyze ditribution of sequence length (unit in word) in the datasets"
   ]
  },
  {
   "cell_type": "code",
   "execution_count": 13,
   "metadata": {},
   "outputs": [],
   "source": [
    "seq_len_dist = Qproc.seq_len_dist(train_token+test_token)"
   ]
  },
  {
   "cell_type": "code",
   "execution_count": 14,
   "metadata": {},
   "outputs": [
    {
     "data": {
      "text/plain": [
       "[<matplotlib.lines.Line2D at 0x18e463748>]"
      ]
     },
     "execution_count": 14,
     "metadata": {},
     "output_type": "execute_result"
    },
    {
     "data": {
      "image/png": "[encoded data removed]",
      "text/plain": [
       "<Figure size 432x288 with 1 Axes>"
      ]
     },
     "metadata": {
      "needs_background": "light"
     },
     "output_type": "display_data"
    }
   ],
   "source": [
    "plt.plot(seq_len_dist)"
   ]
  },
  {
   "cell_type": "markdown",
   "metadata": {},
   "source": [
    "## one can also load from existing pkl files as shown below"
   ]
  },
  {
   "cell_type": "code",
   "execution_count": 7,
   "metadata": {},
   "outputs": [],
   "source": [
    "train_token = Qproc.load_data_pkl(file_name=\"train_token.pkl\")\n",
    "train_label = Qproc.load_data_pkl(file_name=\"train_label.pkl\")\n",
    "test_token = Qproc.load_data_pkl(file_name=\"test_token.pkl\")\n",
    "vocab = Qproc.load_data_pkl(file_name=\"vocab.pkl\")"
   ]
  },
  {
   "cell_type": "markdown",
   "metadata": {},
   "source": [
    "## build & save train and test matrix for NN models (input of embedding layer)"
   ]
  },
  {
   "cell_type": "code",
   "execution_count": 8,
   "metadata": {},
   "outputs": [],
   "source": [
    "train_mat = Qproc.build_data_mat(vocab, train_token, train_label)"
   ]
  },
  {
   "cell_type": "code",
   "execution_count": 10,
   "metadata": {},
   "outputs": [],
   "source": [
    "test_mat = Qproc.build_data_mat(vocab, test_token)"
   ]
  },
  {
   "cell_type": "code",
   "execution_count": 9,
   "metadata": {},
   "outputs": [
    {
     "data": {
      "text/plain": [
       "array([21564, 51513, 51964, 12457, 52307, 39036, 22586, 15808,   307,\n",
       "       52308, 52308, 52308, 52308, 52308, 52308, 52308, 52308, 52308,\n",
       "       52308, 52308, 52308, 52308, 52308, 52308, 52308, 52308, 52308,\n",
       "       52308, 52308, 52308, 52308, 52308, 52308, 52308, 52308, 52308,\n",
       "       52308, 52308, 52308, 52308, 52308, 52308, 52308, 52308, 52308,\n",
       "       52308, 52308, 52308, 52308, 52308, 52308, 52308, 52308, 52308,\n",
       "       52308, 52308, 52308, 52308, 52308, 52308,     0])"
      ]
     },
     "execution_count": 9,
     "metadata": {},
     "output_type": "execute_result"
    }
   ],
   "source": [
    "train_mat[123034]\n",
    "test_mat[100]"
   ]
  },
  {
   "cell_type": "code",
   "execution_count": 12,
   "metadata": {},
   "outputs": [
    {
     "name": "stdout",
     "output_type": "stream",
     "text": [
      " file train_mat.pkl saved to /Users/xyli1905/Projects/NLP/detoxic/data_proc/processed_data/train_mat.pkl\n",
      " file test_mat.pkl saved to /Users/xyli1905/Projects/NLP/detoxic/data_proc/processed_data/test_mat.pkl\n"
     ]
    }
   ],
   "source": [
    "Qproc.dump_data_pkl(train_mat, file_name=\"train_mat.pkl\")\n",
    "Qproc.dump_data_pkl(test_mat, file_name=\"test_mat.pkl\")"
   ]
  },
  {
   "cell_type": "markdown",
   "metadata": {},
   "source": [
    "# (b) embedding part"
   ]
  },
  {
   "cell_type": "code",
   "execution_count": 1,
   "metadata": {},
   "outputs": [],
   "source": [
    "import torch\n",
    "from embedding_preprocess import EmbeddingPreprocessor"
   ]
  },
  {
   "cell_type": "code",
   "execution_count": 2,
   "metadata": {},
   "outputs": [],
   "source": [
    "Eproc = EmbeddingPreprocessor()"
   ]
  },
  {
   "cell_type": "markdown",
   "metadata": {},
   "source": [
    "## load vocabulary and embedding"
   ]
  },
  {
   "cell_type": "code",
   "execution_count": 3,
   "metadata": {},
   "outputs": [],
   "source": [
    "vocab = Eproc.load_vocabulary_pkl(file_name=\"vocab.pkl\")"
   ]
  },
  {
   "cell_type": "code",
   "execution_count": 4,
   "metadata": {},
   "outputs": [],
   "source": [
    "glove = Eproc.load_embedding(file_name=\"glove.840B.300d.txt\")"
   ]
  },
  {
   "cell_type": "markdown",
   "metadata": {},
   "source": [
    "## build pretrained_weight matrix for embedding layer"
   ]
  },
  {
   "cell_type": "code",
   "execution_count": 5,
   "metadata": {},
   "outputs": [],
   "source": [
    "pretrained_weight = Eproc.get_pretrained_weight(vocab, glove)"
   ]
  },
  {
   "cell_type": "code",
   "execution_count": 7,
   "metadata": {},
   "outputs": [
    {
     "name": "stdout",
     "output_type": "stream",
     "text": [
      "52307 2195895 (52309, 300)\n"
     ]
    }
   ],
   "source": [
    "print(len(vocab), len(glove), pretrained_weight.shape)"
   ]
  },
  {
   "cell_type": "markdown",
   "metadata": {},
   "source": [
    "## save pretrained_weight and release memory (glove ~ 5G)"
   ]
  },
  {
   "cell_type": "code",
   "execution_count": 8,
   "metadata": {},
   "outputs": [
    {
     "name": "stdout",
     "output_type": "stream",
     "text": [
      " file pretrained_weight.pkl saved to /Users/xyli1905/Projects/NLP/detoxic/data_proc/processed_data/pretrained_weight.pkl\n"
     ]
    }
   ],
   "source": [
    "Eproc.dump_weight_mat_pkl(pretrained_weight,file_name=\"pretrained_weight.pkl\")"
   ]
  },
  {
   "cell_type": "code",
   "execution_count": 9,
   "metadata": {},
   "outputs": [
    {
     "name": "stdout",
     "output_type": "stream",
     "text": [
      "\n",
      "clearing embedding memory...\n"
     ]
    }
   ],
   "source": [
    "Eproc.release_emb_mem(glove)"
   ]
  },
  {
   "cell_type": "code",
   "execution_count": null,
   "metadata": {},
   "outputs": [],
   "source": []
  }
 ],
 "metadata": {
  "kernelspec": {
   "display_name": "Python 3",
   "language": "python",
   "name": "python3"
  },
  "language_info": {
   "codemirror_mode": {
    "name": "ipython",
    "version": 3
   },
   "file_extension": ".py",
   "mimetype": "text/x-python",
   "name": "python",
   "nbconvert_exporter": "python",
   "pygments_lexer": "ipython3",
   "version": "3.7.1"
  }
 },
 "nbformat": 4,
 "nbformat_minor": 2
}
