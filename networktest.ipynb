{
 "cells": [
  {
   "cell_type": "markdown",
   "metadata": {},
   "source": [
    "# load lib, options & dataset"
   ]
  },
  {
   "cell_type": "code",
   "execution_count": 1,
   "metadata": {},
   "outputs": [],
   "source": [
    "from networks.LR import BoW, EmbBoW, EmbLR\n",
    "from networks.GRU import GRUmodel\n",
    "from train import Train\n",
    "from options.base_options import BaseOption\n",
    "import torch\n",
    "import os\n",
    "import pickle\n",
    "import torch"
   ]
  },
  {
   "cell_type": "code",
   "execution_count": 2,
   "metadata": {},
   "outputs": [],
   "source": [
    "opt = BaseOption().parse()"
   ]
  },
  {
   "cell_type": "code",
   "execution_count": 3,
   "metadata": {},
   "outputs": [
    {
     "data": {
      "text/plain": [
       "torch.Size([1306122, 61])"
      ]
     },
     "execution_count": 3,
     "metadata": {},
     "output_type": "execute_result"
    }
   ],
   "source": [
    "with open('./data_proc/processed_data/train_mat.pkl', 'rb') as f:\n",
    "    # train_mat.pkl is np.ndarray\n",
    "    train_data = torch.from_numpy(pickle.load(f))\n",
    "train_data.shape"
   ]
  },
  {
   "cell_type": "code",
   "execution_count": 4,
   "metadata": {},
   "outputs": [],
   "source": [
    "valid_num = 50000"
   ]
  },
  {
   "cell_type": "markdown",
   "metadata": {},
   "source": [
    "# test RL models"
   ]
  },
  {
   "cell_type": "code",
   "execution_count": 5,
   "metadata": {},
   "outputs": [],
   "source": [
    "testEmbLR = EmbLR(opt)"
   ]
  },
  {
   "cell_type": "code",
   "execution_count": 6,
   "metadata": {},
   "outputs": [
    {
     "name": "stdout",
     "output_type": "stream",
     "text": [
      " model EmbLR loaded from /Users/xyli1905/Projects/NLP/detoxic/checkpoints/baseline/net_EmbLR_10_id.pth\n",
      " optimizer for EmbLR loaded from /Users/xyli1905/Projects/NLP/detoxic/checkpoints/baseline/opt_EmbLR_10_id.pth\n",
      "Start epoch 10 / 11, \t at Fri Feb 22 23:31:24 2019\n",
      " 0% - 10% - 20% - 30% - 40% - 50% - 60% - 70% - 80% - 90% - 100% end\n",
      " model EmbLR saved at /Users/xyli1905/Projects/NLP/detoxic/checkpoints/baseline/net_EmbLR_10_id.pth\n",
      " optimizer for EmbLR saved at /Users/xyli1905/Projects/NLP/detoxic/checkpoints/baseline/opt_EmbLR_10_id.pth\n",
      "End of epoch 10 / 11 \t Time taken: 373 sec (or  6 min)\n",
      "\n",
      "Start epoch 11 / 11, \t at Fri Feb 22 23:37:38 2019\n",
      " 0% - 10% - 20% - 30% - 40% - 50% - 60% - 70% - 80% - 90% - 100% end\n",
      " model EmbLR saved at /Users/xyli1905/Projects/NLP/detoxic/checkpoints/baseline/net_EmbLR_11_id.pth\n",
      " optimizer for EmbLR saved at /Users/xyli1905/Projects/NLP/detoxic/checkpoints/baseline/opt_EmbLR_11_id.pth\n",
      "End of epoch 11 / 11 \t Time taken: 389 sec (or  6 min)\n",
      "\n"
     ]
    },
    {
     "data": {
      "text/plain": [
       "<train.Train at 0x11eecc780>"
      ]
     },
     "execution_count": 6,
     "metadata": {},
     "output_type": "execute_result"
    }
   ],
   "source": [
    "Train(testEmbLR, train_data=train_data[:-valid_num,:])"
   ]
  },
  {
   "cell_type": "code",
   "execution_count": 9,
   "metadata": {},
   "outputs": [
    {
     "name": "stdout",
     "output_type": "stream",
     "text": [
      " model EmbLR loaded from /Users/xyli1905/Projects/NLP/detoxic/checkpoints/baseline/net_EmbLR_10_id.pth\n"
     ]
    }
   ],
   "source": [
    "testEmbLR.load(10)"
   ]
  },
  {
   "cell_type": "code",
   "execution_count": 7,
   "metadata": {},
   "outputs": [
    {
     "name": "stdout",
     "output_type": "stream",
     "text": [
      "Predicted Positive: 2046\n",
      "   Actual Positive: 3089\n",
      " Incorrect Predict: 2507\n",
      "\n",
      " F1 Score: 0.51178\n",
      "   Recall: 0.42538\n",
      "Precision: 0.64223\n",
      " Accuracy: 94.98600%\n"
     ]
    }
   ],
   "source": [
    "# evalmodel(testEmbLR)\n",
    "# evaluate(testEmbLR, train_data[-valid_num:])\n",
    "testEmbLR.evaluate(train_data[-valid_num:])"
   ]
  },
  {
   "cell_type": "code",
   "execution_count": null,
   "metadata": {},
   "outputs": [],
   "source": []
  },
  {
   "cell_type": "markdown",
   "metadata": {},
   "source": [
    "# test basic GRU model"
   ]
  },
  {
   "cell_type": "code",
   "execution_count": 5,
   "metadata": {},
   "outputs": [],
   "source": [
    "testGRU = GRUmodel(opt)"
   ]
  },
  {
   "cell_type": "code",
   "execution_count": 6,
   "metadata": {},
   "outputs": [],
   "source": [
    "valid_num = 50000"
   ]
  },
  {
   "cell_type": "markdown",
   "metadata": {},
   "source": [
    "### about 6min per 10% data"
   ]
  },
  {
   "cell_type": "code",
   "execution_count": 8,
   "metadata": {},
   "outputs": [],
   "source": [
    "Train(testGRU, train_data=train_data[:-valid_num,:])"
   ]
  },
  {
   "cell_type": "code",
   "execution_count": null,
   "metadata": {},
   "outputs": [],
   "source": []
  },
  {
   "cell_type": "code",
   "execution_count": null,
   "metadata": {},
   "outputs": [],
   "source": []
  }
 ],
 "metadata": {
  "kernelspec": {
   "display_name": "Python 3",
   "language": "python",
   "name": "python3"
  },
  "language_info": {
   "codemirror_mode": {
    "name": "ipython",
    "version": 3
   },
   "file_extension": ".py",
   "mimetype": "text/x-python",
   "name": "python",
   "nbconvert_exporter": "python",
   "pygments_lexer": "ipython3",
   "version": "3.7.1"
  }
 },
 "nbformat": 4,
 "nbformat_minor": 2
}
