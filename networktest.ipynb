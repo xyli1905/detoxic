{
 "cells": [
  {
   "cell_type": "markdown",
   "metadata": {},
   "source": [
    "# load lib, options & dataset"
   ]
  },
  {
   "cell_type": "code",
   "execution_count": 1,
   "metadata": {},
   "outputs": [],
   "source": [
    "from networks.LR import BoW, EmbBoW, EmbLR\n",
    "from networks.GRU import GRUmodel\n",
    "from train import Train\n",
    "from options.base_options import BaseOption\n",
    "import torch\n",
    "import os\n",
    "import pickle\n",
    "import torch"
   ]
  },
  {
   "cell_type": "code",
   "execution_count": 2,
   "metadata": {},
   "outputs": [],
   "source": [
    "opt = BaseOption().parse()"
   ]
  },
  {
   "cell_type": "code",
   "execution_count": 3,
   "metadata": {},
   "outputs": [],
   "source": [
    "with open('./data_proc/processed_data/train_mat.pkl', 'rb') as f:\n",
    "    # train_mat.pkl is np.ndarray\n",
    "    train_data = torch.from_numpy(pickle.load(f))"
   ]
  },
  {
   "cell_type": "code",
   "execution_count": 4,
   "metadata": {},
   "outputs": [
    {
     "data": {
      "text/plain": [
       "torch.Size([1306122, 61])"
      ]
     },
     "execution_count": 4,
     "metadata": {},
     "output_type": "execute_result"
    }
   ],
   "source": [
    "train_data.shape"
   ]
  },
  {
   "cell_type": "markdown",
   "metadata": {},
   "source": [
    "## evaluation function"
   ]
  },
  {
   "cell_type": "code",
   "execution_count": 5,
   "metadata": {},
   "outputs": [],
   "source": [
    "def evalmodel(model):\n",
    "    test_pred = model.predict(train_data[-valid_num:,:-1])\n",
    "    difftest = test_pred - torch.squeeze(train_data[-valid_num:,-1])\n",
    "    \n",
    "    A = torch.sum(test_pred)\n",
    "    B = torch.sum(train_data[-valid_num:,-1])\n",
    "    C = torch.sum(torch.abs(difftest))\n",
    "    \n",
    "    print(\"A: %d\" % (float(A)))\n",
    "    print(\"B: %d\" % (float(B)))\n",
    "    print(\"C: %d\" % (float(C)))\n",
    "    print(\"F1: %.5f\" % (float(A+B-C)/float(A+B)))\n",
    "    print(\"ACC: %s %s\" % ((1. - float(C)/float(valid_num))*100., \"%\"))"
   ]
  },
  {
   "cell_type": "markdown",
   "metadata": {},
   "source": [
    "# test RL models"
   ]
  },
  {
   "cell_type": "code",
   "execution_count": 5,
   "metadata": {},
   "outputs": [],
   "source": [
    "testEmbLR = EmbLR(opt)"
   ]
  },
  {
   "cell_type": "code",
   "execution_count": 6,
   "metadata": {},
   "outputs": [],
   "source": [
    "valid_num = 50000"
   ]
  },
  {
   "cell_type": "code",
   "execution_count": 8,
   "metadata": {},
   "outputs": [
    {
     "name": "stdout",
     "output_type": "stream",
     "text": [
      "Start epoch 1 / 10, \t at Fri Feb 22 12:49:31 2019\n",
      " 0% - 10% - 20% - 30% - 40% - 50% - 60% - 70% - 80% - 90% - 100% end\n",
      "Model EmbLR saved at /Users/xyli1905/Projects/NLP/detoxic/checkpoints/baseline/net_EmbLR_1_id.pth\n",
      "optimizer for EmbLR saved at /Users/xyli1905/Projects/NLP/detoxic/checkpoints/baseline/opt_EmbLR_1_id.pth\n",
      "End of epoch 1 / 10 \t Time taken: 374 sec (or  6 min)\n",
      "Start epoch 2 / 10, \t at Fri Feb 22 12:55:45 2019\n",
      " 0% - 10% - 20% - 30% - 40% - 50% - 60% - 70% - 80% - 90% - 100% end\n",
      "Model EmbLR saved at /Users/xyli1905/Projects/NLP/detoxic/checkpoints/baseline/net_EmbLR_2_id.pth\n",
      "optimizer for EmbLR saved at /Users/xyli1905/Projects/NLP/detoxic/checkpoints/baseline/opt_EmbLR_2_id.pth\n",
      "End of epoch 2 / 10 \t Time taken: 382 sec (or  6 min)\n",
      "Start epoch 3 / 10, \t at Fri Feb 22 13:02:08 2019\n",
      " 0% - 10% - 20% - 30% - 40% - 50% - 60% - 70% - 80% - 90% - 100% end\n",
      "Model EmbLR saved at /Users/xyli1905/Projects/NLP/detoxic/checkpoints/baseline/net_EmbLR_3_id.pth\n",
      "optimizer for EmbLR saved at /Users/xyli1905/Projects/NLP/detoxic/checkpoints/baseline/opt_EmbLR_3_id.pth\n",
      "End of epoch 3 / 10 \t Time taken: 386 sec (or  6 min)\n",
      "Start epoch 4 / 10, \t at Fri Feb 22 13:08:35 2019\n",
      " 0% - 10% - 20% - 30% - 40% - 50% - 60% - 70% - 80% - 90% - 100% end\n",
      "Model EmbLR saved at /Users/xyli1905/Projects/NLP/detoxic/checkpoints/baseline/net_EmbLR_4_id.pth\n",
      "optimizer for EmbLR saved at /Users/xyli1905/Projects/NLP/detoxic/checkpoints/baseline/opt_EmbLR_4_id.pth\n",
      "End of epoch 4 / 10 \t Time taken: 384 sec (or  6 min)\n",
      "Start epoch 5 / 10, \t at Fri Feb 22 13:14:59 2019\n",
      " 0% - 10% - 20% - 30% - 40% - 50% - 60% - 70% - 80% - 90% - 100% end\n",
      "Model EmbLR saved at /Users/xyli1905/Projects/NLP/detoxic/checkpoints/baseline/net_EmbLR_5_id.pth\n",
      "optimizer for EmbLR saved at /Users/xyli1905/Projects/NLP/detoxic/checkpoints/baseline/opt_EmbLR_5_id.pth\n",
      "End of epoch 5 / 10 \t Time taken: 388 sec (or  6 min)\n",
      "Start epoch 6 / 10, \t at Fri Feb 22 13:21:28 2019\n",
      " 0% - 10% - 20% - 30% - 40% - 50% - 60% - 70% - 80% - 90% - 100% end\n",
      "Model EmbLR saved at /Users/xyli1905/Projects/NLP/detoxic/checkpoints/baseline/net_EmbLR_6_id.pth\n",
      "optimizer for EmbLR saved at /Users/xyli1905/Projects/NLP/detoxic/checkpoints/baseline/opt_EmbLR_6_id.pth\n",
      "End of epoch 6 / 10 \t Time taken: 389 sec (or  6 min)\n",
      "Start epoch 7 / 10, \t at Fri Feb 22 13:27:58 2019\n",
      " 0% - 10% - 20% - 30% - 40% - 50% - 60% - 70% - 80% - 90% - 100% end\n",
      "Model EmbLR saved at /Users/xyli1905/Projects/NLP/detoxic/checkpoints/baseline/net_EmbLR_7_id.pth\n",
      "optimizer for EmbLR saved at /Users/xyli1905/Projects/NLP/detoxic/checkpoints/baseline/opt_EmbLR_7_id.pth\n",
      "End of epoch 7 / 10 \t Time taken: 383 sec (or  6 min)\n",
      "Start epoch 8 / 10, \t at Fri Feb 22 13:34:21 2019\n",
      " 0% - 10% - 20% - 30% - 40% - 50% - 60% - 70% - 80% - 90% - 100% end\n",
      "Model EmbLR saved at /Users/xyli1905/Projects/NLP/detoxic/checkpoints/baseline/net_EmbLR_8_id.pth\n",
      "optimizer for EmbLR saved at /Users/xyli1905/Projects/NLP/detoxic/checkpoints/baseline/opt_EmbLR_8_id.pth\n",
      "End of epoch 8 / 10 \t Time taken: 389 sec (or  6 min)\n",
      "Start epoch 9 / 10, \t at Fri Feb 22 13:40:51 2019\n",
      " 0% - 10% - 20% - 30% - 40% - 50% - 60% - 70% - 80% - 90% - 100% end\n",
      "Model EmbLR saved at /Users/xyli1905/Projects/NLP/detoxic/checkpoints/baseline/net_EmbLR_9_id.pth\n",
      "optimizer for EmbLR saved at /Users/xyli1905/Projects/NLP/detoxic/checkpoints/baseline/opt_EmbLR_9_id.pth\n",
      "End of epoch 9 / 10 \t Time taken: 371 sec (or  6 min)\n",
      "Start epoch 10 / 10, \t at Fri Feb 22 13:47:02 2019\n",
      " 0% - 10% - 20% - 30% - 40% - 50% - 60% - 70% - 80% - 90% - 100% end\n",
      "Model EmbLR saved at /Users/xyli1905/Projects/NLP/detoxic/checkpoints/baseline/net_EmbLR_10_id.pth\n",
      "optimizer for EmbLR saved at /Users/xyli1905/Projects/NLP/detoxic/checkpoints/baseline/opt_EmbLR_10_id.pth\n",
      "End of epoch 10 / 10 \t Time taken: 358 sec (or  5 min)\n"
     ]
    },
    {
     "data": {
      "text/plain": [
       "<train.Train at 0x1262abe48>"
      ]
     },
     "execution_count": 8,
     "metadata": {},
     "output_type": "execute_result"
    }
   ],
   "source": [
    "Train(testEmbLR, train_data=train_data[:-valid_num,:])"
   ]
  },
  {
   "cell_type": "code",
   "execution_count": 9,
   "metadata": {},
   "outputs": [
    {
     "name": "stdout",
     "output_type": "stream",
     "text": [
      "A: 2094\n",
      "B: 3089\n",
      "C: 2513\n",
      "F1: 0.51515\n",
      "ACC: 94.974 %\n"
     ]
    }
   ],
   "source": [
    "evalmodel(testEmbLR)"
   ]
  },
  {
   "cell_type": "markdown",
   "metadata": {},
   "source": [
    "# test basic GRU model"
   ]
  },
  {
   "cell_type": "code",
   "execution_count": 5,
   "metadata": {},
   "outputs": [
    {
     "ename": "NameError",
     "evalue": "name 'torch' is not defined",
     "output_type": "error",
     "traceback": [
      "\u001b[0;31m---------------------------------------------------------------------------\u001b[0m",
      "\u001b[0;31mNameError\u001b[0m                                 Traceback (most recent call last)",
      "\u001b[0;32m<ipython-input-5-953169d02540>\u001b[0m in \u001b[0;36m<module>\u001b[0;34m\u001b[0m\n\u001b[0;32m----> 1\u001b[0;31m \u001b[0mtestGRU\u001b[0m \u001b[0;34m=\u001b[0m \u001b[0mGRUmodel\u001b[0m\u001b[0;34m(\u001b[0m\u001b[0mopt\u001b[0m\u001b[0;34m)\u001b[0m\u001b[0;34m\u001b[0m\u001b[0;34m\u001b[0m\u001b[0m\n\u001b[0m",
      "\u001b[0;32m~/Projects/NLP/detoxic/networks/GRU.py\u001b[0m in \u001b[0;36m__init__\u001b[0;34m(self, opt)\u001b[0m\n\u001b[1;32m     15\u001b[0m \u001b[0;34m\u001b[0m\u001b[0m\n\u001b[1;32m     16\u001b[0m         \u001b[0;31m# define parameters\u001b[0m\u001b[0;34m\u001b[0m\u001b[0;34m\u001b[0m\u001b[0;34m\u001b[0m\u001b[0m\n\u001b[0;32m---> 17\u001b[0;31m         \u001b[0mself\u001b[0m\u001b[0;34m.\u001b[0m\u001b[0m_setup_emb\u001b[0m\u001b[0;34m(\u001b[0m\u001b[0;34m)\u001b[0m\u001b[0;34m\u001b[0m\u001b[0;34m\u001b[0m\u001b[0m\n\u001b[0m\u001b[1;32m     18\u001b[0m         \u001b[0mself\u001b[0m\u001b[0;34m.\u001b[0m\u001b[0m_hidden_size\u001b[0m \u001b[0;34m=\u001b[0m \u001b[0;36m64\u001b[0m\u001b[0;34m\u001b[0m\u001b[0;34m\u001b[0m\u001b[0m\n\u001b[1;32m     19\u001b[0m         \u001b[0mself\u001b[0m\u001b[0;34m.\u001b[0m\u001b[0m_output_size\u001b[0m \u001b[0;34m=\u001b[0m \u001b[0;36m2\u001b[0m \u001b[0;31m# two labels 0,1\u001b[0m\u001b[0;34m\u001b[0m\u001b[0;34m\u001b[0m\u001b[0m\n",
      "\u001b[0;32m~/Projects/NLP/detoxic/networks/GRU.py\u001b[0m in \u001b[0;36m_setup_emb\u001b[0;34m(self)\u001b[0m\n\u001b[1;32m     58\u001b[0m         \u001b[0;32mwith\u001b[0m \u001b[0mopen\u001b[0m\u001b[0;34m(\u001b[0m\u001b[0memb_path\u001b[0m\u001b[0;34m,\u001b[0m \u001b[0;34m'rb'\u001b[0m\u001b[0;34m)\u001b[0m \u001b[0;32mas\u001b[0m \u001b[0mf\u001b[0m\u001b[0;34m:\u001b[0m\u001b[0;34m\u001b[0m\u001b[0;34m\u001b[0m\u001b[0m\n\u001b[1;32m     59\u001b[0m             \u001b[0;31m# pretrained_weight.pkl is np.ndarray\u001b[0m\u001b[0;34m\u001b[0m\u001b[0;34m\u001b[0m\u001b[0;34m\u001b[0m\u001b[0m\n\u001b[0;32m---> 60\u001b[0;31m             \u001b[0mself\u001b[0m\u001b[0;34m.\u001b[0m\u001b[0mpretrained_weight\u001b[0m \u001b[0;34m=\u001b[0m \u001b[0mtorch\u001b[0m\u001b[0;34m.\u001b[0m\u001b[0mfrom_numpy\u001b[0m\u001b[0;34m(\u001b[0m\u001b[0mpickle\u001b[0m\u001b[0;34m.\u001b[0m\u001b[0mload\u001b[0m\u001b[0;34m(\u001b[0m\u001b[0mf\u001b[0m\u001b[0;34m)\u001b[0m\u001b[0;34m)\u001b[0m\u001b[0;34m\u001b[0m\u001b[0;34m\u001b[0m\u001b[0m\n\u001b[0m\u001b[1;32m     61\u001b[0m \u001b[0;34m\u001b[0m\u001b[0m\n\u001b[1;32m     62\u001b[0m         \u001b[0mself\u001b[0m\u001b[0;34m.\u001b[0m\u001b[0m_vocab_size\u001b[0m \u001b[0;34m=\u001b[0m \u001b[0mself\u001b[0m\u001b[0;34m.\u001b[0m\u001b[0mpretrained_weight\u001b[0m\u001b[0;34m.\u001b[0m\u001b[0mshape\u001b[0m\u001b[0;34m[\u001b[0m\u001b[0;36m0\u001b[0m\u001b[0;34m]\u001b[0m \u001b[0;34m-\u001b[0m \u001b[0;36m2\u001b[0m\u001b[0;34m\u001b[0m\u001b[0;34m\u001b[0m\u001b[0m\n",
      "\u001b[0;31mNameError\u001b[0m: name 'torch' is not defined"
     ]
    }
   ],
   "source": [
    "testGRU = GRUmodel(opt)"
   ]
  },
  {
   "cell_type": "code",
   "execution_count": 6,
   "metadata": {},
   "outputs": [],
   "source": [
    "valid_num = 50000"
   ]
  },
  {
   "cell_type": "code",
   "execution_count": 7,
   "metadata": {},
   "outputs": [
    {
     "name": "stdout",
     "output_type": "stream",
     "text": [
      "Start epoch 1 / 1, \t at Fri Feb 22 15:22:38 2019\n",
      " 0%"
     ]
    },
    {
     "ename": "NameError",
     "evalue": "name 'Variable' is not defined",
     "output_type": "error",
     "traceback": [
      "\u001b[0;31m---------------------------------------------------------------------------\u001b[0m",
      "\u001b[0;31mNameError\u001b[0m                                 Traceback (most recent call last)",
      "\u001b[0;32m<ipython-input-7-e5bd77b4cc9b>\u001b[0m in \u001b[0;36m<module>\u001b[0;34m\u001b[0m\n\u001b[0;32m----> 1\u001b[0;31m \u001b[0mTrain\u001b[0m\u001b[0;34m(\u001b[0m\u001b[0mtestGRU\u001b[0m\u001b[0;34m,\u001b[0m \u001b[0mtrain_data\u001b[0m\u001b[0;34m=\u001b[0m\u001b[0mtrain_data\u001b[0m\u001b[0;34m[\u001b[0m\u001b[0;34m:\u001b[0m\u001b[0;34m-\u001b[0m\u001b[0mvalid_num\u001b[0m\u001b[0;34m,\u001b[0m\u001b[0;34m:\u001b[0m\u001b[0;34m]\u001b[0m\u001b[0;34m)\u001b[0m\u001b[0;34m\u001b[0m\u001b[0;34m\u001b[0m\u001b[0m\n\u001b[0m",
      "\u001b[0;32m~/Projects/NLP/detoxic/train.py\u001b[0m in \u001b[0;36m__init__\u001b[0;34m(self, model, train_data)\u001b[0m\n\u001b[1;32m     39\u001b[0m \u001b[0;34m\u001b[0m\u001b[0m\n\u001b[1;32m     40\u001b[0m         \u001b[0;31m# train model\u001b[0m\u001b[0;34m\u001b[0m\u001b[0;34m\u001b[0m\u001b[0;34m\u001b[0m\u001b[0m\n\u001b[0;32m---> 41\u001b[0;31m         \u001b[0mself\u001b[0m\u001b[0;34m.\u001b[0m\u001b[0m_train\u001b[0m\u001b[0;34m(\u001b[0m\u001b[0;34m)\u001b[0m\u001b[0;34m\u001b[0m\u001b[0;34m\u001b[0m\u001b[0m\n\u001b[0m\u001b[1;32m     42\u001b[0m \u001b[0;34m\u001b[0m\u001b[0m\n\u001b[1;32m     43\u001b[0m         \u001b[0;31m# update training status\u001b[0m\u001b[0;34m\u001b[0m\u001b[0;34m\u001b[0m\u001b[0;34m\u001b[0m\u001b[0m\n",
      "\u001b[0;32m~/Projects/NLP/detoxic/train.py\u001b[0m in \u001b[0;36m_train\u001b[0;34m(self)\u001b[0m\n\u001b[1;32m     60\u001b[0m             print(\"Start epoch %d / %d, \\t at %s\" % \\\n\u001b[1;32m     61\u001b[0m                   (i_epoch+1, self._opt.max_epoch, time.asctime()))\n\u001b[0;32m---> 62\u001b[0;31m             \u001b[0mself\u001b[0m\u001b[0;34m.\u001b[0m\u001b[0m_train_epoch\u001b[0m\u001b[0;34m(\u001b[0m\u001b[0mi_epoch\u001b[0m\u001b[0;34m)\u001b[0m\u001b[0;34m\u001b[0m\u001b[0;34m\u001b[0m\u001b[0m\n\u001b[0m\u001b[1;32m     63\u001b[0m \u001b[0;34m\u001b[0m\u001b[0m\n\u001b[1;32m     64\u001b[0m             \u001b[0;31m# save model after each epoch here, note i_epoch is 0-based\u001b[0m\u001b[0;34m\u001b[0m\u001b[0;34m\u001b[0m\u001b[0;34m\u001b[0m\u001b[0m\n",
      "\u001b[0;32m~/Projects/NLP/detoxic/train.py\u001b[0m in \u001b[0;36m_train_epoch\u001b[0;34m(self, i_epoch)\u001b[0m\n\u001b[1;32m     83\u001b[0m \u001b[0;34m\u001b[0m\u001b[0m\n\u001b[1;32m     84\u001b[0m             \u001b[0;31m# forward model\u001b[0m\u001b[0;34m\u001b[0m\u001b[0;34m\u001b[0m\u001b[0;34m\u001b[0m\u001b[0m\n\u001b[0;32m---> 85\u001b[0;31m             \u001b[0my_pred\u001b[0m \u001b[0;34m=\u001b[0m \u001b[0mself\u001b[0m\u001b[0;34m.\u001b[0m\u001b[0m_model\u001b[0m\u001b[0;34m.\u001b[0m\u001b[0mforward\u001b[0m\u001b[0;34m(\u001b[0m\u001b[0mtrain_batch\u001b[0m\u001b[0;34m[\u001b[0m\u001b[0;34m:\u001b[0m\u001b[0;34m,\u001b[0m \u001b[0;34m:\u001b[0m\u001b[0;34m-\u001b[0m\u001b[0;36m1\u001b[0m\u001b[0;34m]\u001b[0m\u001b[0;34m)\u001b[0m\u001b[0;34m\u001b[0m\u001b[0;34m\u001b[0m\u001b[0m\n\u001b[0m\u001b[1;32m     86\u001b[0m             \u001b[0mLRloss\u001b[0m \u001b[0;34m=\u001b[0m \u001b[0mself\u001b[0m\u001b[0;34m.\u001b[0m\u001b[0m_lossfun\u001b[0m\u001b[0;34m(\u001b[0m\u001b[0my_pred\u001b[0m\u001b[0;34m,\u001b[0m \u001b[0mtrain_batch\u001b[0m\u001b[0;34m[\u001b[0m\u001b[0;34m:\u001b[0m\u001b[0;34m,\u001b[0m \u001b[0;34m-\u001b[0m\u001b[0;36m1\u001b[0m\u001b[0;34m]\u001b[0m\u001b[0;34m)\u001b[0m\u001b[0;34m\u001b[0m\u001b[0;34m\u001b[0m\u001b[0m\n\u001b[1;32m     87\u001b[0m \u001b[0;34m\u001b[0m\u001b[0m\n",
      "\u001b[0;32m~/Projects/NLP/detoxic/networks/GRU.py\u001b[0m in \u001b[0;36mforward\u001b[0;34m(self, idx_seq)\u001b[0m\n\u001b[1;32m     69\u001b[0m     \u001b[0;32mdef\u001b[0m \u001b[0mforward\u001b[0m\u001b[0;34m(\u001b[0m\u001b[0mself\u001b[0m\u001b[0;34m,\u001b[0m \u001b[0midx_seq\u001b[0m\u001b[0;34m)\u001b[0m\u001b[0;34m:\u001b[0m\u001b[0;34m\u001b[0m\u001b[0;34m\u001b[0m\u001b[0m\n\u001b[1;32m     70\u001b[0m         \u001b[0mX\u001b[0m \u001b[0;34m=\u001b[0m \u001b[0mself\u001b[0m\u001b[0;34m.\u001b[0m\u001b[0membed\u001b[0m\u001b[0;34m(\u001b[0m\u001b[0midx_seq\u001b[0m\u001b[0;34m)\u001b[0m \u001b[0;31m# X:(b, seqlen, embdim)\u001b[0m\u001b[0;34m\u001b[0m\u001b[0;34m\u001b[0m\u001b[0m\n\u001b[0;32m---> 71\u001b[0;31m         \u001b[0mh\u001b[0m \u001b[0;34m=\u001b[0m \u001b[0mVariable\u001b[0m\u001b[0;34m(\u001b[0m\u001b[0mtorch\u001b[0m\u001b[0;34m.\u001b[0m\u001b[0mzeros\u001b[0m\u001b[0;34m(\u001b[0m\u001b[0mself\u001b[0m\u001b[0;34m.\u001b[0m\u001b[0m_h_state_vsize\u001b[0m\u001b[0;34m,\u001b[0m \u001b[0midx_seq\u001b[0m\u001b[0;34m.\u001b[0m\u001b[0mshape\u001b[0m\u001b[0;34m[\u001b[0m\u001b[0;36m0\u001b[0m\u001b[0;34m]\u001b[0m\u001b[0;34m,\u001b[0m \u001b[0mself\u001b[0m\u001b[0;34m.\u001b[0m\u001b[0m_cell_hidden_size\u001b[0m\u001b[0;34m)\u001b[0m\u001b[0;34m)\u001b[0m\u001b[0;34m\u001b[0m\u001b[0;34m\u001b[0m\u001b[0m\n\u001b[0m\u001b[1;32m     72\u001b[0m         \u001b[0mX\u001b[0m\u001b[0;34m,\u001b[0m \u001b[0mh\u001b[0m \u001b[0;34m=\u001b[0m \u001b[0mself\u001b[0m\u001b[0;34m.\u001b[0m\u001b[0mgru\u001b[0m\u001b[0;34m(\u001b[0m\u001b[0mX\u001b[0m\u001b[0;34m,\u001b[0m \u001b[0mh\u001b[0m\u001b[0;34m)\u001b[0m\u001b[0;34m\u001b[0m\u001b[0;34m\u001b[0m\u001b[0m\n\u001b[1;32m     73\u001b[0m         \u001b[0mX\u001b[0m \u001b[0;34m=\u001b[0m \u001b[0mself\u001b[0m\u001b[0;34m.\u001b[0m\u001b[0mdropout\u001b[0m\u001b[0;34m(\u001b[0m\u001b[0mX\u001b[0m\u001b[0;34m)\u001b[0m\u001b[0;34m\u001b[0m\u001b[0;34m\u001b[0m\u001b[0m\n",
      "\u001b[0;31mNameError\u001b[0m: name 'Variable' is not defined"
     ]
    }
   ],
   "source": [
    "Train(testGRU, train_data=train_data[:-valid_num,:])"
   ]
  },
  {
   "cell_type": "code",
   "execution_count": null,
   "metadata": {},
   "outputs": [],
   "source": []
  }
 ],
 "metadata": {
  "kernelspec": {
   "display_name": "Python 3",
   "language": "python",
   "name": "python3"
  },
  "language_info": {
   "codemirror_mode": {
    "name": "ipython",
    "version": 3
   },
   "file_extension": ".py",
   "mimetype": "text/x-python",
   "name": "python",
   "nbconvert_exporter": "python",
   "pygments_lexer": "ipython3",
   "version": "3.7.1"
  }
 },
 "nbformat": 4,
 "nbformat_minor": 2
}
