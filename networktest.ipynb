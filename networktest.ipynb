{
 "cells": [
  {
   "cell_type": "markdown",
   "metadata": {},
   "source": [
    "# load lib, options & dataset"
   ]
  },
  {
   "cell_type": "code",
   "execution_count": 1,
   "metadata": {},
   "outputs": [],
   "source": [
    "from networks.LR import BoW, EmbBoW, EmbLR\n",
    "from networks.GRU import GRUmodel\n",
    "from train import Train\n",
    "from options.base_options import BaseOption\n",
    "import torch\n",
    "import os\n",
    "import pickle\n",
    "import torch"
   ]
  },
  {
   "cell_type": "code",
   "execution_count": 2,
   "metadata": {},
   "outputs": [],
   "source": [
    "opt = BaseOption().parse()"
   ]
  },
  {
   "cell_type": "code",
   "execution_count": 3,
   "metadata": {},
   "outputs": [],
   "source": [
    "with open('./data_proc/processed_data/train_mat.pkl', 'rb') as f:\n",
    "    # train_mat.pkl is np.ndarray\n",
    "    train_data = torch.from_numpy(pickle.load(f))"
   ]
  },
  {
   "cell_type": "code",
   "execution_count": 4,
   "metadata": {},
   "outputs": [
    {
     "data": {
      "text/plain": [
       "torch.Size([1306122, 61])"
      ]
     },
     "execution_count": 4,
     "metadata": {},
     "output_type": "execute_result"
    }
   ],
   "source": [
    "train_data.shape"
   ]
  },
  {
   "cell_type": "markdown",
   "metadata": {},
   "source": [
    "## evaluation function"
   ]
  },
  {
   "cell_type": "code",
   "execution_count": 5,
   "metadata": {},
   "outputs": [],
   "source": [
    "def evalmodel(model):\n",
    "    test_pred = model.predict(train_data[-valid_num:,:-1])\n",
    "    difftest = test_pred - torch.squeeze(train_data[-valid_num:,-1])\n",
    "    \n",
    "    A = torch.sum(test_pred)\n",
    "    B = torch.sum(train_data[-valid_num:,-1])\n",
    "    C = torch.sum(torch.abs(difftest))\n",
    "    \n",
    "    print(\"A: %d\" % (float(A)))\n",
    "    print(\"B: %d\" % (float(B)))\n",
    "    print(\"C: %d\" % (float(C)))\n",
    "    print(\"F1: %.5f\" % (float(A+B-C)/float(A+B)))\n",
    "    print(\"ACC: %s %s\" % ((1. - float(C)/float(valid_num))*100., \"%\"))"
   ]
  },
  {
   "cell_type": "markdown",
   "metadata": {},
   "source": [
    "# test RL models"
   ]
  },
  {
   "cell_type": "code",
   "execution_count": 5,
   "metadata": {},
   "outputs": [],
   "source": [
    "testEmbLR = EmbLR(opt)"
   ]
  },
  {
   "cell_type": "code",
   "execution_count": 6,
   "metadata": {},
   "outputs": [],
   "source": [
    "valid_num = 50000"
   ]
  },
  {
   "cell_type": "code",
   "execution_count": 8,
   "metadata": {},
   "outputs": [
    {
     "name": "stdout",
     "output_type": "stream",
     "text": [
      "Start epoch 1 / 10, \t at Fri Feb 22 12:49:31 2019\n",
      " 0% - 10% - 20% - 30% - 40% - 50% - 60% - 70% - 80% - 90% - 100% end\n",
      "Model EmbLR saved at /Users/xyli1905/Projects/NLP/detoxic/checkpoints/baseline/net_EmbLR_1_id.pth\n",
      "optimizer for EmbLR saved at /Users/xyli1905/Projects/NLP/detoxic/checkpoints/baseline/opt_EmbLR_1_id.pth\n",
      "End of epoch 1 / 10 \t Time taken: 374 sec (or  6 min)\n",
      "Start epoch 2 / 10, \t at Fri Feb 22 12:55:45 2019\n",
      " 0% - 10% - 20% - 30% - 40% - 50% - 60% - 70% - 80% - 90% - 100% end\n",
      "Model EmbLR saved at /Users/xyli1905/Projects/NLP/detoxic/checkpoints/baseline/net_EmbLR_2_id.pth\n",
      "optimizer for EmbLR saved at /Users/xyli1905/Projects/NLP/detoxic/checkpoints/baseline/opt_EmbLR_2_id.pth\n",
      "End of epoch 2 / 10 \t Time taken: 382 sec (or  6 min)\n",
      "Start epoch 3 / 10, \t at Fri Feb 22 13:02:08 2019\n",
      " 0% - 10% - 20% - 30% - 40% - 50% - 60% - 70% - 80% - 90% - 100% end\n",
      "Model EmbLR saved at /Users/xyli1905/Projects/NLP/detoxic/checkpoints/baseline/net_EmbLR_3_id.pth\n",
      "optimizer for EmbLR saved at /Users/xyli1905/Projects/NLP/detoxic/checkpoints/baseline/opt_EmbLR_3_id.pth\n",
      "End of epoch 3 / 10 \t Time taken: 386 sec (or  6 min)\n",
      "Start epoch 4 / 10, \t at Fri Feb 22 13:08:35 2019\n",
      " 0% - 10% - 20% - 30% - 40% - 50% - 60% - 70% - 80% - 90% - 100% end\n",
      "Model EmbLR saved at /Users/xyli1905/Projects/NLP/detoxic/checkpoints/baseline/net_EmbLR_4_id.pth\n",
      "optimizer for EmbLR saved at /Users/xyli1905/Projects/NLP/detoxic/checkpoints/baseline/opt_EmbLR_4_id.pth\n",
      "End of epoch 4 / 10 \t Time taken: 384 sec (or  6 min)\n",
      "Start epoch 5 / 10, \t at Fri Feb 22 13:14:59 2019\n",
      " 0% - 10% - 20% - 30% - 40% - 50% - 60% - 70% - 80% - 90% - 100% end\n",
      "Model EmbLR saved at /Users/xyli1905/Projects/NLP/detoxic/checkpoints/baseline/net_EmbLR_5_id.pth\n",
      "optimizer for EmbLR saved at /Users/xyli1905/Projects/NLP/detoxic/checkpoints/baseline/opt_EmbLR_5_id.pth\n",
      "End of epoch 5 / 10 \t Time taken: 388 sec (or  6 min)\n",
      "Start epoch 6 / 10, \t at Fri Feb 22 13:21:28 2019\n",
      " 0% - 10% - 20% - 30% - 40% - 50% - 60% - 70% - 80% - 90% - 100% end\n",
      "Model EmbLR saved at /Users/xyli1905/Projects/NLP/detoxic/checkpoints/baseline/net_EmbLR_6_id.pth\n",
      "optimizer for EmbLR saved at /Users/xyli1905/Projects/NLP/detoxic/checkpoints/baseline/opt_EmbLR_6_id.pth\n",
      "End of epoch 6 / 10 \t Time taken: 389 sec (or  6 min)\n",
      "Start epoch 7 / 10, \t at Fri Feb 22 13:27:58 2019\n",
      " 0% - 10% - 20% - 30% - 40% - 50% - 60% - 70% - 80% - 90% - 100% end\n",
      "Model EmbLR saved at /Users/xyli1905/Projects/NLP/detoxic/checkpoints/baseline/net_EmbLR_7_id.pth\n",
      "optimizer for EmbLR saved at /Users/xyli1905/Projects/NLP/detoxic/checkpoints/baseline/opt_EmbLR_7_id.pth\n",
      "End of epoch 7 / 10 \t Time taken: 383 sec (or  6 min)\n",
      "Start epoch 8 / 10, \t at Fri Feb 22 13:34:21 2019\n",
      " 0% - 10% - 20% - 30% - 40% - 50% - 60% - 70% - 80% - 90% - 100% end\n",
      "Model EmbLR saved at /Users/xyli1905/Projects/NLP/detoxic/checkpoints/baseline/net_EmbLR_8_id.pth\n",
      "optimizer for EmbLR saved at /Users/xyli1905/Projects/NLP/detoxic/checkpoints/baseline/opt_EmbLR_8_id.pth\n",
      "End of epoch 8 / 10 \t Time taken: 389 sec (or  6 min)\n",
      "Start epoch 9 / 10, \t at Fri Feb 22 13:40:51 2019\n",
      " 0% - 10% - 20% - 30% - 40% - 50% - 60% - 70% - 80% - 90% - 100% end\n",
      "Model EmbLR saved at /Users/xyli1905/Projects/NLP/detoxic/checkpoints/baseline/net_EmbLR_9_id.pth\n",
      "optimizer for EmbLR saved at /Users/xyli1905/Projects/NLP/detoxic/checkpoints/baseline/opt_EmbLR_9_id.pth\n",
      "End of epoch 9 / 10 \t Time taken: 371 sec (or  6 min)\n",
      "Start epoch 10 / 10, \t at Fri Feb 22 13:47:02 2019\n",
      " 0% - 10% - 20% - 30% - 40% - 50% - 60% - 70% - 80% - 90% - 100% end\n",
      "Model EmbLR saved at /Users/xyli1905/Projects/NLP/detoxic/checkpoints/baseline/net_EmbLR_10_id.pth\n",
      "optimizer for EmbLR saved at /Users/xyli1905/Projects/NLP/detoxic/checkpoints/baseline/opt_EmbLR_10_id.pth\n",
      "End of epoch 10 / 10 \t Time taken: 358 sec (or  5 min)\n"
     ]
    },
    {
     "data": {
      "text/plain": [
       "<train.Train at 0x1262abe48>"
      ]
     },
     "execution_count": 8,
     "metadata": {},
     "output_type": "execute_result"
    }
   ],
   "source": [
    "Train(testEmbLR, train_data=train_data[:-valid_num,:])"
   ]
  },
  {
   "cell_type": "code",
   "execution_count": 9,
   "metadata": {},
   "outputs": [
    {
     "name": "stdout",
     "output_type": "stream",
     "text": [
      "A: 2094\n",
      "B: 3089\n",
      "C: 2513\n",
      "F1: 0.51515\n",
      "ACC: 94.974 %\n"
     ]
    }
   ],
   "source": [
    "evalmodel(testEmbLR)"
   ]
  },
  {
   "cell_type": "markdown",
   "metadata": {},
   "source": [
    "# test basic GRU model"
   ]
  },
  {
   "cell_type": "code",
   "execution_count": 5,
   "metadata": {},
   "outputs": [],
   "source": [
    "testGRU = GRUmodel(opt)"
   ]
  },
  {
   "cell_type": "code",
   "execution_count": 6,
   "metadata": {},
   "outputs": [],
   "source": [
    "valid_num = 50000"
   ]
  },
  {
   "cell_type": "code",
   "execution_count": null,
   "metadata": {},
   "outputs": [
    {
     "name": "stdout",
     "output_type": "stream",
     "text": [
      "Start epoch 1 / 1, \t at Fri Feb 22 15:26:30 2019\n",
      " 0% - 10%"
     ]
    }
   ],
   "source": [
    "Train(testGRU, train_data=train_data[:-valid_num,:])"
   ]
  },
  {
   "cell_type": "code",
   "execution_count": null,
   "metadata": {},
   "outputs": [],
   "source": []
  }
 ],
 "metadata": {
  "kernelspec": {
   "display_name": "Python 3",
   "language": "python",
   "name": "python3"
  },
  "language_info": {
   "codemirror_mode": {
    "name": "ipython",
    "version": 3
   },
   "file_extension": ".py",
   "mimetype": "text/x-python",
   "name": "python",
   "nbconvert_exporter": "python",
   "pygments_lexer": "ipython3",
   "version": "3.7.1"
  }
 },
 "nbformat": 4,
 "nbformat_minor": 2
}
