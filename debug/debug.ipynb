{
 "cells": [
  {
   "cell_type": "markdown",
   "metadata": {},
   "source": [
    "# this note book is for error analysis (wrong predictions)"
   ]
  },
  {
   "cell_type": "code",
   "execution_count": 1,
   "metadata": {},
   "outputs": [],
   "source": [
    "import pickle\n",
    "import numpy as np\n",
    "import pandas"
   ]
  },
  {
   "cell_type": "code",
   "execution_count": 2,
   "metadata": {},
   "outputs": [],
   "source": [
    "with open(\"falsepredidx.pkl\", 'rb') as f:\n",
    "    F_dict = pickle.load(f)"
   ]
  },
  {
   "cell_type": "code",
   "execution_count": 3,
   "metadata": {},
   "outputs": [
    {
     "name": "stdout",
     "output_type": "stream",
     "text": [
      "(2006, 1)\n"
     ]
    }
   ],
   "source": [
    "print(F_dict[\"FN\"].shape)\n",
    "FP_idx = F_dict[\"FP\"]\n",
    "FN_idx = F_dict[\"FN\"]"
   ]
  },
  {
   "cell_type": "code",
   "execution_count": 9,
   "metadata": {},
   "outputs": [],
   "source": [
    "# load raw questions\n",
    "file_path = \"/Users/xyli1905/Projects/Datasets/Kaggle/QuoraToxicDetect/train.csv\"\n",
    "data = pandas.read_csv(file_path) \n",
    "train_data = list(data[\"question_text\"])\n",
    "label = list(data[\"target\"])\n",
    "valid_data = train_data[-100000:]\n",
    "valid_label = label[-100000:]"
   ]
  },
  {
   "cell_type": "code",
   "execution_count": 5,
   "metadata": {},
   "outputs": [],
   "source": [
    "# load tokenized data\n",
    "with open('../data_proc/processed_data/train_token.pkl', 'rb') as f:\n",
    "    train_token = pickle.load(f)\n",
    "valid_token = train_token[-100000:]"
   ]
  },
  {
   "cell_type": "code",
   "execution_count": 10,
   "metadata": {},
   "outputs": [
    {
     "name": "stdout",
     "output_type": "stream",
     "text": [
      "200 If big bang is real, Why don't exploding bombs create new universes? Ha! Checkmate atheists. 0\n",
      "200 ['if', 'big', 'bang', 'is', 'real', ',', 'why', 'do', \"n't\", 'exploding', 'bombs', 'create', 'new', 'universes', '?', 'ha', '!', 'checkmate', 'atheists', '.']\n",
      "\n",
      "201 Why are there no women in the Freemasons? 0\n",
      "201 ['why', 'are', 'there', 'no', 'women', 'in', 'the', 'freemasons', '?']\n",
      "\n",
      "202 Why is Islam full of threats? 0\n",
      "202 ['why', 'is', 'islam', 'full', 'of', 'threats', '?']\n",
      "\n",
      "203 Which world would be safer: one in which every single adult on earth carried a gun at all times, or a world where nobody had a gun including cops and military? 0\n",
      "203 ['which', 'world', 'would', 'be', 'safer', ':', 'one', 'in', 'which', 'every', 'single', 'adult', 'on', 'earth', 'carried', 'a', 'gun', 'at', 'all', 'times', ',', 'or', 'a', 'world', 'where', 'nobody', 'had', 'a', 'gun', 'including', 'cops', 'and', 'military', '?']\n",
      "\n",
      "204 Why do the feminist movement and BLM so oftenly disrespect those who serve in the Police, the Military, or veterans? 0\n",
      "204 ['why', 'do', 'the', 'feminist', 'movement', 'and', 'blm', 'so', 'oftenly', 'disrespect', 'those', 'who', 'serve', 'in', 'the', 'police', ',', 'the', 'military', ',', 'or', 'veterans', '?']\n",
      "\n",
      "205 Why almost 1/3rd of Mughal officers under the reign of Aurangzeb were Hindu? The commander in chief of his army was also Hindu. If Aurangzeb suppressed Hindus, why did he appoint so many Hindus? 0\n",
      "205 ['why', 'almost', 'numbsymb/3rd', 'of', 'mughal', 'officers', 'under', 'the', 'reign', 'of', 'aurangzeb', 'were', 'hindu', '?', 'the', 'commander', 'in', 'chief', 'of', 'his', 'army', 'was', 'also', 'hindu', '.', 'if', 'aurangzeb', 'suppressed', 'hindus', ',', 'why', 'did', 'he', 'appoint', 'so', 'many', 'hindus', '?']\n",
      "\n",
      "206 Did Hitler paid William Patrick Hitler the equivalent of 250 000 dollars in order to silence him? 0\n",
      "206 ['did', 'hitler', 'paid', 'william', 'patrick', 'hitler', 'the', 'equivalent', 'of', 'numbsymb', 'numbsymb', 'dollars', 'in', 'order', 'to', 'silence', 'him', '?']\n",
      "\n",
      "207 Is Rahul Gandhi the most irritating politician right now? 0\n",
      "207 ['is', 'rahul', 'gandhi', 'the', 'most', 'irritating', 'politician', 'right', 'now', '?']\n",
      "\n",
      "208 Is it true that in North America, the majority of women would be unwilling to date a guy with ethnic heritage from countries like China or Japan, compared to Europe, Latin America, Australia or NZ? 0\n",
      "208 ['is', 'it', 'true', 'that', 'in', 'north', 'america', ',', 'the', 'majority', 'of', 'women', 'would', 'be', 'unwilling', 'to', 'date', 'a', 'guy', 'with', 'ethnic', 'heritage', 'from', 'countries', 'like', 'china', 'or', 'japan', ',', 'compared', 'to', 'europe', ',', 'latin', 'america', ',', 'australia', 'or', 'nz', '?']\n",
      "\n",
      "209 How would you feel if your husband cleaned your vagina out with soap and water for dating a Hispanic guy 7 years before even meeting him? 0\n",
      "209 ['how', 'would', 'you', 'feel', 'if', 'your', 'husband', 'cleaned', 'your', 'vagina', 'out', 'with', 'soap', 'and', 'water', 'for', 'dating', 'a', 'hispanic', 'guy', 'numbsymb', 'years', 'before', 'even', 'meeting', 'him', '?']\n",
      "\n",
      "210 Why does Queen Elizabeth II have to sign off so many government papers if Britain is the democracy they claim it is, and not the theocracy that it was before? Are they really being short with the truth? 0\n",
      "210 ['why', 'does', 'queen', 'elizabeth', 'ii', 'have', 'to', 'sign', 'off', 'so', 'many', 'government', 'papers', 'if', 'britain', 'is', 'the', 'democracy', 'they', 'claim', 'it', 'is', ',', 'and', 'not', 'the', 'theocracy', 'that', 'it', 'was', 'before', '?', 'are', 'they', 'really', 'being', 'short', 'with', 'the', 'truth', '?']\n",
      "\n",
      "211 Does it bother seniors that Americans got so fat and sloppy looking when it used to be one wouldn't leave the house without looking impeccably sharp? 0\n",
      "211 ['does', 'it', 'bother', 'seniors', 'that', 'americans', 'got', 'so', 'fat', 'and', 'sloppy', 'looking', 'when', 'it', 'used', 'to', 'be', 'one', 'would', \"n't\", 'leave', 'the', 'house', 'without', 'looking', 'impeccably', 'sharp', '?']\n",
      "\n",
      "212 Are women trying to dominate and claim superiority over men all in the name of feminism in India? 0\n",
      "212 ['are', 'women', 'trying', 'to', 'dominate', 'and', 'claim', 'superiority', 'over', 'men', 'all', 'in', 'the', 'name', 'of', 'feminism', 'in', 'india', '?']\n",
      "\n",
      "213 Why are Russians so afraid of American unity? 0\n",
      "213 ['why', 'are', 'russians', 'so', 'afraid', 'of', 'american', 'unity', '?']\n",
      "\n",
      "214 I have seen women who have only sisters (2 or more) give births to only girls (not boys). Is it true? 0\n",
      "214 ['i', 'have', 'seen', 'women', 'who', 'have', 'only', 'sisters', 'numbsymb', 'or', 'more', 'give', 'births', 'to', 'only', 'girls', 'not', 'boys', '.', 'is', 'it', 'true', '?']\n",
      "\n",
      "215 Are many Republicans on Quora upset about Trump's tweets about wire tapping- accusing President Obama of being a \"bad (or sick) guy\"? 0\n",
      "215 ['are', 'many', 'republicans', 'on', 'quora', 'upset', 'about', 'trump', \"'s\", 'tweets', 'about', 'wire', 'tapping-', 'accusing', 'president', 'obama', 'of', 'being', 'a', 'bad', 'or', 'sick', 'guy', '?']\n",
      "\n",
      "216 Why do almost all vegans look weak, dry skin and stoned for months? 0\n",
      "216 ['why', 'do', 'almost', 'all', 'vegans', 'look', 'weak', ',', 'dry', 'skin', 'and', 'stoned', 'for', 'months', '?']\n",
      "\n",
      "217 If aliens were going to enslave humanity and turn earth into a farm, treating us like cattle, would it be better to kill our race with nuclear bombs? 0\n",
      "217 ['if', 'aliens', 'were', 'going', 'to', 'enslave', 'humanity', 'and', 'turn', 'earth', 'into', 'a', 'farm', ',', 'treating', 'us', 'like', 'cattle', ',', 'would', 'it', 'be', 'better', 'to', 'kill', 'our', 'race', 'with', 'nuclear', 'bombs', '?']\n",
      "\n",
      "218 Are transgender people vain? 0\n",
      "218 ['are', 'transgender', 'people', 'vain', '?']\n",
      "\n",
      "219 Is Turkey ever joining the EU because of Erdogan trying setting up his hidden Neo-Ottoman agenda? 0\n",
      "219 ['is', 'turkey', 'ever', 'joining', 'the', 'eu', 'because', 'of', 'erdogan', 'trying', 'setting', 'up', 'his', 'hidden', 'neo-ottoman', 'agenda', '?']\n",
      "\n"
     ]
    }
   ],
   "source": [
    "num_FP_q = 20\n",
    "start_FP_q = 200\n",
    "end_FP_q = start_FP_q + num_FP_q\n",
    "\n",
    "for i in range(start_FP_q, end_FP_q):\n",
    "    assert valid_label[FP_idx[i, 0]] == 0, \"wrong label!\"\n",
    "    print(i, valid_data[FP_idx[i, 0]])\n",
    "    print(i, valid_token[FP_idx[i, 0]])\n",
    "    print()"
   ]
  },
  {
   "cell_type": "code",
   "execution_count": 12,
   "metadata": {},
   "outputs": [
    {
     "name": "stdout",
     "output_type": "stream",
     "text": [
      "200 Is Reliance Jio a cheap data conspiracy of BJP to keep the unemployed youth glued up to Mia Khalifa, and forget their party's failure?\n",
      "200 ['is', 'reliance', 'jio', 'a', 'cheap', 'data', 'conspiracy', 'of', 'bjp', 'to', 'keep', 'the', 'unemployed', 'youth', 'glued', 'up', 'to', 'mia', 'khalifa', ',', 'and', 'forget', 'their', 'party', \"'s\", 'failure', '?']\n",
      "\n",
      "201 Is it not strange that some people twist their belief in God to give them the right to hurt other human beings?\n",
      "201 ['is', 'it', 'not', 'strange', 'that', 'some', 'people', 'twist', 'their', 'belief', 'in', 'god', 'to', 'give', 'them', 'the', 'right', 'to', 'hurt', 'other', 'human', 'beings', '?']\n",
      "\n",
      "202 Why are most people unaware of Prophet homer’s message?\n",
      "202 ['why', 'are', 'most', 'people', 'unaware', 'of', 'prophet', 'homer', '’', 's', 'message', '?']\n",
      "\n",
      "203 How do you show that [math]\\displaystyle\\sum_{m\\geq 3}\\left[4\\binom{1/2}{m}+\\binom{1/2}{m-1}\\right]\\frac{1}{\\Gamma\\left(m-\\tfrac{3}{2}\\right)}\\int\\limits_{0}^{\\infty}\\frac{x^{m-3/2}}{e^x-1}\\,dx=\\int\\limits_{0}^{\\infty}\\frac{3 e^{-x} \\left(2-2 e^x+x+e^x x\\right)}{2 \\sqrt{\\pi } x^{5/2}(e^x-1)}\\,dx[/math]?\n",
      "203 ['how', 'do', 'you', 'show', 'that', 'latexmathexpression', '?']\n",
      "\n",
      "204 Did God create all the answers of Quora?\n",
      "204 ['did', 'god', 'create', 'all', 'the', 'answers', 'of', 'quora', '?']\n",
      "\n",
      "205 What would happen if Republicans would stop lying for a year?\n",
      "205 ['what', 'would', 'happen', 'if', 'republicans', 'would', 'stop', 'lying', 'for', 'a', 'year', '?']\n",
      "\n",
      "206 If a female human can't get pregnant by oral from a dog, then why am I getting pregnancy symptoms?\n",
      "206 ['if', 'a', 'female', 'human', 'ca', \"n't\", 'get', 'pregnant', 'by', 'oral', 'from', 'a', 'dog', ',', 'then', 'why', 'am', 'i', 'getting', 'pregnancy', 'symptoms', '?']\n",
      "\n",
      "207 What's bigger Donald trumps ego or the Pacific Ocean?\n",
      "207 ['what', \"'s\", 'bigger', 'donald', 'trumps', 'ego', 'or', 'the', 'pacific', 'ocean', '?']\n",
      "\n",
      "208 Why do conservatives care less about the problems of others?\n",
      "208 ['why', 'do', 'conservatives', 'care', 'less', 'about', 'the', 'problems', 'of', 'others', '?']\n",
      "\n",
      "209 How I met you Mother is much better than friends. Friends is so fucking borring and none is than Barney Stinson?\n",
      "209 ['how', 'i', 'met', 'you', 'mother', 'is', 'much', 'better', 'than', 'friends', '.', 'friends', 'is', 'so', 'fucking', 'borring', 'and', 'none', 'is', 'than', 'barney', 'stinson', '?']\n",
      "\n",
      "210 What are the rights equal to the Indians and the aliens?\n",
      "210 ['what', 'are', 'the', 'rights', 'equal', 'to', 'the', 'indians', 'and', 'the', 'aliens', '?']\n",
      "\n",
      "211 Is it possible to hack a Facebook account nowadays without letting the victim know about it?\n",
      "211 ['is', 'it', 'possible', 'to', 'hack', 'a', 'facebook', 'account', 'nowadays', 'without', 'letting', 'the', 'victim', 'know', 'about', 'it', '?']\n",
      "\n",
      "212 Why is it so popular to hate on the elites?\n",
      "212 ['why', 'is', 'it', 'so', 'popular', 'to', 'hate', 'on', 'the', 'elites', '?']\n",
      "\n",
      "213 How can I waste my time in a useful way, being a 3rd year CS/IT student?\n",
      "213 ['how', 'can', 'i', 'waste', 'my', 'time', 'in', 'a', 'useful', 'way', ',', 'being', 'a', 'numbsymbrd', 'year', 'cs', 'or', 'it', 'student', '?']\n",
      "\n",
      "214 Why are most Indian Roman Catholics religiously more tolerant compared to Indian Protestants?\n",
      "214 ['why', 'are', 'most', 'indian', 'roman', 'catholics', 'religiously', 'more', 'tolerant', 'compared', 'to', 'indian', 'protestants', '?']\n",
      "\n",
      "215 How can the Labour Party be trusted when the Labour Party council areas have turn a blind eye to all the grooming gangs?\n",
      "215 ['how', 'can', 'the', 'labour', 'party', 'be', 'trusted', 'when', 'the', 'labour', 'party', 'council', 'areas', 'have', 'turn', 'a', 'blind', 'eye', 'to', 'all', 'the', 'grooming', 'gangs', '?']\n",
      "\n",
      "216 Isn't throwing away your ejaculate a total waste of life-giving sperm? Shouldn't you at least swallow it instead?\n",
      "216 ['is', \"n't\", 'throwing', 'away', 'your', 'ejaculate', 'a', 'total', 'waste', 'of', 'life-giving', 'sperm', '?', 'should', \"n't\", 'you', 'at', 'least', 'swallow', 'it', 'instead', '?']\n",
      "\n",
      "217 My family is comprised of low IQ Simpleton peasantry. What do I doP?\n",
      "217 ['my', 'family', 'is', 'comprised', 'of', 'low', 'iq', 'simpleton', 'peasantry', '.', 'what', 'do', 'i', 'dop', '?']\n",
      "\n",
      "218 Why do some say the “Milky Way” is no more than a “scar” on the firmament dome?\n",
      "218 ['why', 'do', 'some', 'say', 'the', '“', 'milky', 'way', '”', 'is', 'no', 'more', 'than', 'a', '“', 'scar', '”', 'on', 'the', 'firmament', 'dome', '?']\n",
      "\n",
      "219 Is president buhari of Nigeria cloned?\n",
      "219 ['is', 'president', 'buhari', 'of', 'nigeria', 'cloned', '?']\n",
      "\n"
     ]
    }
   ],
   "source": [
    "num_FN_q = 20\n",
    "start_FN_q = 200\n",
    "end_FN_q = start_FN_q + num_FN_q\n",
    "\n",
    "for i in range(start_FN_q, end_FN_q):\n",
    "    assert valid_label[FN_idx[i, 0]] == 1, \"wrong label!\"\n",
    "    print(i, valid_data[FN_idx[i, 0]])\n",
    "    print(i, valid_token[FN_idx[i, 0]])\n",
    "    print()"
   ]
  },
  {
   "cell_type": "code",
   "execution_count": null,
   "metadata": {},
   "outputs": [],
   "source": []
  }
 ],
 "metadata": {
  "kernelspec": {
   "display_name": "Python 3",
   "language": "python",
   "name": "python3"
  },
  "language_info": {
   "codemirror_mode": {
    "name": "ipython",
    "version": 3
   },
   "file_extension": ".py",
   "mimetype": "text/x-python",
   "name": "python",
   "nbconvert_exporter": "python",
   "pygments_lexer": "ipython3",
   "version": "3.7.1"
  }
 },
 "nbformat": 4,
 "nbformat_minor": 2
}
